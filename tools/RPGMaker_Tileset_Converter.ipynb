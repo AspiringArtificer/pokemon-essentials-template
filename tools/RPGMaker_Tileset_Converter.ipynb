{
  "nbformat": 4,
  "nbformat_minor": 0,
  "metadata": {
    "colab": {
      "provenance": []
    },
    "kernelspec": {
      "name": "python3",
      "display_name": "Python 3"
    },
    "language_info": {
      "name": "python"
    }
  },
  "cells": [
    {
      "cell_type": "markdown",
      "source": [
        "# Purpose\n",
        "## Background\n",
        "Have you ever tried to use RPG Maker autotiles/terrain tiles in TileD or another mapping tool?\n",
        "\n",
        "It doesn't work great.\n",
        "\n",
        "The reason is because RPG Maker's autotiles are actually subdivided into 4 'mini-tiles' which are composited back together into full-sized tiles as you paint.\n",
        "\n",
        "TileD can *approximate* this, but doesn't fully understand where each part of each tile goes. As such, it picks randomly for each of the edge and center peices, and doesn't create perfect patterns. If you already noticed this, well, that's probably why you're here.\n",
        "\n",
        "## This Program\n",
        "That's where this program comes in.\n",
        "\n",
        "It's purpose is to take RPG Maker tilesets (which are 9 tiles), take them apart, composite them, and output the 47-tile tilests that work better in basically every other program.\n",
        "\n",
        "You don't have to *write* any code to use it, but you do have to upload files, write in the names of those files, and change some other parameters. Then you have to go down a long list of 'code blocks' and run them with the little play buttons on the left of each block, one after the other.\n",
        "\n",
        "If it all goes well, it'll output your finished 47-tile tilesets at the end."
      ],
      "metadata": {
        "id": "EJA_BZS0zyot"
      }
    },
    {
      "cell_type": "markdown",
      "source": [
        "# Set your Parameters\n",
        "If all goes well, this will be the only code you actually edit. Once you've put in all your parameters and uploaded your file, click the little play button on the code.\n",
        "\n",
        "**filename** should be the name of the file you are reading in, minus the file extension. Make sure to actually add the file to the collab! You can do it by clicking on the left to see 'Files' and then clicking to upload to the currently displayed directory. You may need to refresh to see your files.\n",
        "\n",
        "**tileSize** should be set to 48, 32, 16, etc based on what the size of the tile is.\n",
        "\n",
        "**startingPixel** is almost always going to be (0,0), because most of the time your RPGMaker autotiles start right up against the upper left side of the tilesheet. It's (width x height)\n",
        "\n",
        "**terrainTypes** tells me how many groups of autotiles exist in each direction on this tileset. If there's just one autotile, type (1,1). If there's 8 autotiles across and 4 autotiles down, type (8,4).\n",
        "\n",
        "**Note: ** Your autotiles have to all be all bunched together in a continous group, a rectangle. If they're scattered all over the place, well, you can either run this utility on a bunch of things that *aren't* autotiles in the middle, or you can fool around with startingPixel to pick out the autotiles in the middle that aren't conforming.\n"
      ],
      "metadata": {
        "id": "pJTGzBdo1LKF"
      }
    },
    {
      "cell_type": "markdown",
      "source": [],
      "metadata": {
        "id": "Ag8I-ootjlNJ"
      }
    },
    {
      "cell_type": "code",
      "execution_count": 6,
      "metadata": {
        "id": "rXSRmXPYzkcm"
      },
      "outputs": [],
      "source": [
        "#Enter Primary Properties\n",
        "fileName = \"Sea\"\n",
        "tileSize = 32\n",
        "\n",
        "startingPixel = (0,0)\n",
        "terrainTypes = (8,1)"
      ]
    },
    {
      "cell_type": "markdown",
      "source": [
        "### Calculate Derivative Properties\n",
        "At this point, assuming you put in the parameters properly, and clicked the play button to run the code, and got no errors...\n",
        "\n",
        "...you should just be clicking on all the play buttons to come, cross your fingers, and pray nothing goes wrong."
      ],
      "metadata": {
        "id": "kL7dB1tz3vlN"
      }
    },
    {
      "cell_type": "code",
      "source": [
        "#Computing Derivative Properties Based on What You Entered\n",
        "totalTerrainTypes = terrainTypes[0] * terrainTypes[1]\n",
        "\n",
        "terrainPixelSize = (2*tileSize, 3*tileSize)\n",
        "totalPixelSize = (terrainTypes[0] * terrainPixelSize[0], terrainTypes[1] * terrainPixelSize[1])\n",
        "\n",
        "saveWidth = tileSize*8\n",
        "saveHeight = tileSize*6\n",
        "halfTile = int(tileSize/2)\n",
        "\n",
        "#File path names\n",
        "loadPath = fileName + \".png\"\n",
        "savePaths = [None] * totalTerrainTypes\n",
        "\n",
        "for i in range(0, totalTerrainTypes):\n",
        "    savePaths[i] = fileName + \"_output\" + str(i) + \".png\"\n"
      ],
      "metadata": {
        "id": "uD6VjJO13u_l"
      },
      "execution_count": 7,
      "outputs": []
    },
    {
      "cell_type": "markdown",
      "source": [
        "# Define Tile Locations"
      ],
      "metadata": {
        "id": "CjwIsP2u4WQ8"
      }
    },
    {
      "cell_type": "markdown",
      "source": [
        "## Define Source Tile Locations"
      ],
      "metadata": {
        "id": "PsgCQ8Ek4ZJs"
      }
    },
    {
      "cell_type": "code",
      "source": [
        "sourceTiles = [None]*(4*5)\n",
        "\n",
        "m = 0\n",
        "\n",
        "#Explore the vertical dimension second\n",
        "for k in range(0,3):\n",
        "\n",
        "    #Explore the horizontal dimension first\n",
        "    for h in range(0,2):\n",
        "\n",
        "        #Just ignore that upper left square\n",
        "        if (k==0) and (h == 0):\n",
        "            continue\n",
        "\n",
        "        #explore the vertical dimension second\n",
        "        for j in range(0,2):\n",
        "\n",
        "            #explore the horizontal dimension first\n",
        "            for i in range(0,2):\n",
        "                startX = i*halfTile + h*tileSize\n",
        "                endX = startX + halfTile\n",
        "                startY = j*halfTile + k*tileSize\n",
        "                endY = startY + halfTile\n",
        "\n",
        "                sourceTiles[m] = (startX, startY, endX, endY)\n",
        "                m +=1\n"
      ],
      "metadata": {
        "id": "y7IgbeLz4ao8"
      },
      "execution_count": 8,
      "outputs": []
    },
    {
      "cell_type": "markdown",
      "source": [
        "## Define Output Locations"
      ],
      "metadata": {
        "id": "XBq7mB2U4gaE"
      }
    },
    {
      "cell_type": "code",
      "source": [
        "outputTiles = [None]*12\n",
        "for j in range(0,12):\n",
        "    outputTiles[j] = [None]*16\n",
        "    for i in range(0,16):\n",
        "        outputTiles[j][i] = 0\n",
        "\n",
        "outputTiles[0] = [4,5,8,9,  16,13,16,13,    4,5,8,9,    16,1,0,13]\n",
        "outputTiles[1] = [6,7,10,11,    10,3,2,7,   6,3,2,11,   2,3,2,3]\n",
        "outputTiles[2] = [12,13,16,17,  16,1,0,13,  12,1,0,17,  0,1,0,1]\n",
        "outputTiles[3] = [14,15,18,19,  10,7,10,7,  14,15,18,19,    10,3,2,7]\n",
        "\n",
        "outputTiles[4] = [12,13,8,5,    12,13,8,5,  12,1,8,5,   12,1,8,5]\n",
        "outputTiles[5] = [6,7,10,7,    6,3,2,13,   6,7,10,3,   6,3,2,3]\n",
        "outputTiles[6] = [16,13,16,17,  16,1,0,17,  0,13,16,17, 0,1,0,17]\n",
        "outputTiles[7] = [18,15,10,11,   18,15,10,11, 18,15,2,11, 18,15,2,11]\n",
        "\n",
        "outputTiles[8] = [16,13,0,13,   4,9,4,5,    8,5,8,9,    12,17,0,13]\n",
        "outputTiles[9] = [2,3,2,7,  6,11,14,15, 18,15,18,19,    6,11,10,3]\n",
        "outputTiles[10] = [16,1,0,1,    12,17,16,13,    4,9,0,1,    None, None, 16, 1]\n",
        "outputTiles[11] = [10,3,10,7,   14,19,10,7, 14,19,2,3,      None, None, 2,7]\n"
      ],
      "metadata": {
        "id": "y5qoIwQ14h30"
      },
      "execution_count": 9,
      "outputs": []
    },
    {
      "cell_type": "markdown",
      "source": [
        "# Let's Begin Converting\n"
      ],
      "metadata": {
        "id": "imlYbbEc4k01"
      }
    },
    {
      "cell_type": "markdown",
      "source": [
        "## Open Images"
      ],
      "metadata": {
        "id": "p4gbuOQA4sEV"
      }
    },
    {
      "cell_type": "code",
      "source": [
        "from PIL import Image\n",
        "\n",
        "# Open File\n",
        "toEdit = Image.open(loadPath).convert(\"RGBA\")\n",
        "\n",
        "# Create New File\n",
        "allSaves = [None] * totalTerrainTypes"
      ],
      "metadata": {
        "id": "b66vcGI54q-1"
      },
      "execution_count": 10,
      "outputs": []
    },
    {
      "cell_type": "markdown",
      "source": [
        "## Convert Images"
      ],
      "metadata": {
        "id": "VUMAcNz-4u0l"
      }
    },
    {
      "cell_type": "code",
      "source": [
        "m = 0\n",
        "for k in range(0, terrainTypes[0]):\n",
        "    for h in range(0, terrainTypes[1]):\n",
        "\n",
        "        #Create an image to save to\n",
        "        toSave = Image.new(mode=\"RGBA\", size=(saveWidth, saveHeight))\n",
        "\n",
        "        for j in range(0,12):\n",
        "            for i in range(0,16):\n",
        "\n",
        "                #Look up which tile is meant to be in this slot\n",
        "                which = outputTiles[j][i]\n",
        "\n",
        "                #Don't print any tile if the key is 'None'\n",
        "                if which == None:\n",
        "                    continue\n",
        "\n",
        "                #Get the rectangle bounding the tile that's meant to be in this slot. It's [inclusive,exclusive)\n",
        "                copyBox = sourceTiles[which]\n",
        "\n",
        "                #Adjusting that rectangle by starting pixel size and based on which terrain we're converting\n",
        "                source = (  copyBox[0] + startingPixel[0] + k*terrainPixelSize[0],\n",
        "                            copyBox[1] + startingPixel[1] + h*terrainPixelSize[1],\n",
        "                            copyBox[2] + startingPixel[0] + k*terrainPixelSize[0],\n",
        "                            copyBox[3] + startingPixel[1] + h*terrainPixelSize[1])\n",
        "\n",
        "                #Get the location we'll be pasting the tile to.\n",
        "                pastePoint = (i*halfTile, j*halfTile)\n",
        "\n",
        "                #Debugging\n",
        "                #print(str(pastePoint) + \", tile: \" + str(which) + \", i: \" + str(i) + \", j:\" + str(j))\n",
        "\n",
        "                #Paste the tile (no, you don't just use 'paste' or 'copy', you have to use this unweildy monster)\n",
        "                toSave.alpha_composite(im=toEdit,dest=pastePoint, source=source)\n",
        "\n",
        "        # Show off the result so we can be sure we did it right.\n",
        "        allSaves[m] = toSave\n",
        "        m+=1"
      ],
      "metadata": {
        "id": "0ceK-pjT6Tqt"
      },
      "execution_count": 11,
      "outputs": []
    },
    {
      "cell_type": "markdown",
      "source": [
        "## Save to File"
      ],
      "metadata": {
        "id": "6pSSuc-C40W9"
      }
    },
    {
      "cell_type": "code",
      "source": [
        "# Show the File (this process is actually extremely slow, so I discincluded it)\n",
        "#for i in range(0, totalTerrainTypes):\n",
        "    #allSaves[i].show()\n",
        "\n",
        "for i in range(0, totalTerrainTypes):\n",
        "    allSaves[i].save(fp=savePaths[i])"
      ],
      "metadata": {
        "id": "yQ1i_rle4tG4"
      },
      "execution_count": 12,
      "outputs": []
    },
    {
      "cell_type": "markdown",
      "source": [
        "# End\n",
        "Hit 'REFRESH' on the File Explorer on the left to see your outputted files...\n",
        "\n",
        "## Troubleshooting\n",
        "...How did it go? Did the converter work for you?\n",
        "\n",
        "Sadly, if it malfunctioned, you're going to have to save a version and try to fix it yourself!\n",
        "\n",
        "I cannot teach you Python, Pillow Collab, or Jupyter notebooks--I can't offer support for this tool.\n",
        "\n",
        "All I can do is put this tool online and make it available so that hopefully some tech-artists find it, and then don't have to do a bunch of manual work copy+pasting things in Aesprite, Photoshop, or Gimp.\n",
        "\n",
        "### Running Locally on your Own Machine\n",
        "Python is one of those languages where you write very little code to leverage powerful libraries written by someone else in order to automate boring tasks like copying and pasting graphics in a programmatic pattern.\n",
        "\n",
        "So anyone who wants to work in Python has to get used to the idea that, for every problem they have, there's a library for that. I mean, there's more than one, but there'd definitely *one*, and usually one everyone knows and has made a million tutorials for.\n",
        "\n",
        "When it comes to quickly editing images, that library is [Pillow](https://pypi.org/project/pillow/). That's what that 'import Image from PIL' line was all about.\n",
        "\n",
        "If you want to run a verison of this collab on your own computer, you'll need to have a development environment-- I use [Visual Studio Code](https://www.google.com/search?q=visual+studio+code&sca_esv=598988451&rlz=1C1CHZL_enHK710HK710&ei=lCqnZbmZILOt5NoPucKp8AQ&ved=0ahUKEwi5s-OLoOODAxWzFlkFHTlhCk4Q4dUDCBA&uact=5&oq=visual+studio+code&gs_lp=Egxnd3Mtd2l6LXNlcnAiEnZpc3VhbCBzdHVkaW8gY29kZTIQEAAYgAQYigUYQxixAxiDATIKEAAYgAQYigUYQzILEAAYgAQYigUYkQIyCxAAGIAEGIoFGJECMgsQABiABBiKBRiRAjIFEAAYgAQyBRAAGIAEMgUQABiABDIFEAAYgAQyBRAAGIAESOQBUABYAHAAeAGQAQCYAWagAWaqAQMwLjG4AQPIAQD4AQHiAwQYACBB&sclient=gws-wiz-serp) --and to have installed [Python](https://www.python.org/) itself...\n",
        "\n",
        "You will either need to copy+paste each of the code blocks one by one into your python file or you can run the whole collab locally, like me, by working with [Jupyter Notebooks](https://code.visualstudio.com/docs/datascience/jupyter-notebooks).\n",
        "\n",
        "You'll need to install something to manage python packages/libraries, if you don't already have one. Options include '[pip](https://colab.research.google.com/drive/1pK-jr_15GjqxKqSUtrmQuLVsSE2_IQq_#scrollTo=D0ukuux044Re&line=14&uniqifier=1)' which I'm pretty sure is straight up bundled with python these days, or a version of '[conda](https://conda.io/projects/conda/en/latest/user-guide/install/index.html).'\n",
        "\n",
        "The process of setting up python can be briefly overwhelming because it feels like there's a lot of peices just to get started. This can be disheartening if things go wrong and, for example, VSCode can't find your damn Python path variable. Grr! Then you have to set it manually! But if things go wrong on your first attempt, don't give up, you'll get it!\n"
      ],
      "metadata": {
        "id": "D0ukuux044Re"
      }
    }
  ]
}